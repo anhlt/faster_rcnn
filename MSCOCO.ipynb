{
 "cells": [
  {
   "cell_type": "code",
   "execution_count": 1,
   "metadata": {},
   "outputs": [],
   "source": [
    "%matplotlib inline\n",
    "%load_ext autoreload\n",
    "%autoreload 2"
   ]
  },
  {
   "cell_type": "code",
   "execution_count": 2,
   "metadata": {},
   "outputs": [],
   "source": [
    "from pycocotools.coco import COCO\n",
    "import numpy as np\n",
    "import matplotlib.pyplot as plt\n",
    "import pylab\n",
    "pylab.rcParams['figure.figsize'] = (10.0, 8.0)\n",
    "from torch.utils.data import DataLoader\n",
    "import torch\n",
    "from torch.autograd import Variable\n",
    "from faster_rcnn.utils.cython_bbox import bbox_overlaps\n",
    "from pycrayon import CrayonClient\n",
    "\n",
    "import cPickle\n",
    "from torch.optim import SGD, RMSprop, Adam\n",
    "from torch.optim.lr_scheduler import StepLR\n",
    "from datetime import datetime\n",
    "from faster_rcnn.utils.datasets.adapter import convert_data\n",
    "from faster_rcnn.utils.evaluate.metter import AverageMeter\n",
    "from faster_rcnn.utils.display.images import imshow, result_show"
   ]
  },
  {
   "cell_type": "code",
   "execution_count": 3,
   "metadata": {},
   "outputs": [],
   "source": [
    "with open('sorted_index', 'rb') as fp:\n",
    "    sorted_index = cPickle.load(fp)"
   ]
  },
  {
   "cell_type": "markdown",
   "metadata": {},
   "source": [
    "### Đọc dữ liệu từ MS COCO dataset\n"
   ]
  },
  {
   "cell_type": "code",
   "execution_count": 4,
   "metadata": {
    "scrolled": true
   },
   "outputs": [
    {
     "name": "stdout",
     "output_type": "stream",
     "text": [
      "loading annotations into memory...\n",
      "Done (t=10.45s)\n",
      "creating index...\n",
      "index created!\n"
     ]
    },
    {
     "name": "stderr",
     "output_type": "stream",
     "text": [
      "INFO:faster_rcnn.utils.datasets.mscoco.dataset:need more than 0 values to unpack\n"
     ]
    }
   ],
   "source": [
    "import os\n",
    "import torchvision.transforms as transforms\n",
    "from faster_rcnn.utils.datasets.mscoco.dataset import CocoData\n",
    "from faster_rcnn.utils.datasets.data_generator import CocoGenerator\n",
    "from faster_rcnn.utils.datasets.data_generator import Enqueuer\n",
    "\n",
    "dataDir = './data/mscoco'\n",
    "dataType = 'train2014'\n",
    "annFile='%s/annotations/instances_%s.json'%(dataDir,dataType)\n",
    "batch_size = 6\n",
    "\n",
    "images_dir = os.path.join(dataDir,'images', dataType)\n",
    "cap = CocoData(root = images_dir, annFile = annFile)\n",
    "\n",
    "data_gen = CocoGenerator(data=cap, sorted_index=sorted_index, batch_size=batch_size)\n",
    "queue = Enqueuer(generator=data_gen)\n",
    "queue.start(max_queue_size=10, workers=2)\n",
    "train_data_generator = queue.get()\n"
   ]
  },
  {
   "cell_type": "code",
   "execution_count": 5,
   "metadata": {},
   "outputs": [
    {
     "name": "stdout",
     "output_type": "stream",
     "text": [
      "loading annotations into memory...\n",
      "Done (t=6.59s)\n",
      "creating index...\n",
      "index created!\n"
     ]
    },
    {
     "name": "stderr",
     "output_type": "stream",
     "text": [
      "INFO:faster_rcnn.utils.datasets.mscoco.dataset:need more than 0 values to unpack\n"
     ]
    }
   ],
   "source": [
    "dataDir = './data/mscoco'\n",
    "dataType = 'val2014'\n",
    "annFile='%s/annotations/instances_%s.json'%(dataDir,dataType)\n",
    "batch_size = 6\n",
    "\n",
    "images_dir = os.path.join(dataDir,'images', dataType)\n",
    "val_cap = CocoData(root = images_dir, annFile = annFile)\n",
    "\n",
    "val_data_gen = CocoGenerator(data=val_cap, batch_size=batch_size, shuffle=True, seed=2)\n",
    "val_queue = Enqueuer(generator=val_data_gen)\n",
    "val_queue.start(max_queue_size=10, workers=2)\n",
    "val_data_generator = val_queue.get()\n"
   ]
  },
  {
   "cell_type": "markdown",
   "metadata": {},
   "source": [
    "Thử hiển thị ảnh cùng các bounding boxes"
   ]
  },
  {
   "cell_type": "code",
   "execution_count": 6,
   "metadata": {
    "scrolled": true
   },
   "outputs": [],
   "source": [
    "from faster_rcnn.faster_rcnn import FastRCNN\n"
   ]
  },
  {
   "cell_type": "markdown",
   "metadata": {},
   "source": [
    "### Tính toán feed-forward\n",
    "\n",
    "\n",
    "Chúng ta sử dụng một ảnh có kích thước đầu vào là  `(width , height) = (600, 800)`\n",
    "\n",
    "Input:\n",
    "    - im_data : \n",
    "        kích thước : (batch_size, dim, witdh, height)\n",
    "    - ground_boxes: \n",
    "        kích thước (n, 4)\n",
    "        "
   ]
  },
  {
   "cell_type": "code",
   "execution_count": 7,
   "metadata": {},
   "outputs": [],
   "source": [
    "categories = ['__background__'] + [x['name'] for x in cap.coco.loadCats(cap.coco.getCatIds())]"
   ]
  },
  {
   "cell_type": "code",
   "execution_count": 8,
   "metadata": {
    "scrolled": false
   },
   "outputs": [
    {
     "data": {
      "text/plain": [
       "FastRCNN(\n",
       "  (rpn): RPN(\n",
       "    (features): DataParallel(\n",
       "      (module): Sequential(\n",
       "        (0): Conv2d(3, 64, kernel_size=(3, 3), stride=(1, 1), padding=(1, 1))\n",
       "        (1): ReLU(inplace)\n",
       "        (2): Conv2d(64, 64, kernel_size=(3, 3), stride=(1, 1), padding=(1, 1))\n",
       "        (3): ReLU(inplace)\n",
       "        (4): MaxPool2d(kernel_size=2, stride=2, padding=0, dilation=1, ceil_mode=False)\n",
       "        (5): Conv2d(64, 128, kernel_size=(3, 3), stride=(1, 1), padding=(1, 1))\n",
       "        (6): ReLU(inplace)\n",
       "        (7): Conv2d(128, 128, kernel_size=(3, 3), stride=(1, 1), padding=(1, 1))\n",
       "        (8): ReLU(inplace)\n",
       "        (9): MaxPool2d(kernel_size=2, stride=2, padding=0, dilation=1, ceil_mode=False)\n",
       "        (10): Conv2d(128, 256, kernel_size=(3, 3), stride=(1, 1), padding=(1, 1))\n",
       "        (11): ReLU(inplace)\n",
       "        (12): Conv2d(256, 256, kernel_size=(3, 3), stride=(1, 1), padding=(1, 1))\n",
       "        (13): ReLU(inplace)\n",
       "        (14): Conv2d(256, 256, kernel_size=(3, 3), stride=(1, 1), padding=(1, 1))\n",
       "        (15): ReLU(inplace)\n",
       "        (16): MaxPool2d(kernel_size=2, stride=2, padding=0, dilation=1, ceil_mode=False)\n",
       "        (17): Conv2d(256, 512, kernel_size=(3, 3), stride=(1, 1), padding=(1, 1))\n",
       "        (18): ReLU(inplace)\n",
       "        (19): Conv2d(512, 512, kernel_size=(3, 3), stride=(1, 1), padding=(1, 1))\n",
       "        (20): ReLU(inplace)\n",
       "        (21): Conv2d(512, 512, kernel_size=(3, 3), stride=(1, 1), padding=(1, 1))\n",
       "        (22): ReLU(inplace)\n",
       "        (23): MaxPool2d(kernel_size=2, stride=2, padding=0, dilation=1, ceil_mode=False)\n",
       "        (24): Conv2d(512, 512, kernel_size=(3, 3), stride=(1, 1), padding=(1, 1))\n",
       "        (25): ReLU(inplace)\n",
       "        (26): Conv2d(512, 512, kernel_size=(3, 3), stride=(1, 1), padding=(1, 1))\n",
       "        (27): ReLU(inplace)\n",
       "        (28): Conv2d(512, 512, kernel_size=(3, 3), stride=(1, 1), padding=(1, 1))\n",
       "        (29): ReLU(inplace)\n",
       "      )\n",
       "    )\n",
       "    (conv1): DataParallel(\n",
       "      (module): Conv2d(\n",
       "        (conv): Conv2d(512, 512, kernel_size=(3, 3), stride=(1, 1), padding=(1, 1))\n",
       "        (relu): ReLU(inplace)\n",
       "      )\n",
       "    )\n",
       "    (score_conv): DataParallel(\n",
       "      (module): Conv2d(\n",
       "        (conv): Conv2d(512, 24, kernel_size=(1, 1), stride=(1, 1))\n",
       "      )\n",
       "    )\n",
       "    (bbox_conv): DataParallel(\n",
       "      (module): Conv2d(\n",
       "        (conv): Conv2d(512, 48, kernel_size=(1, 1), stride=(1, 1))\n",
       "      )\n",
       "    )\n",
       "    (anchor_target_layer): AnchorTargerLayer()\n",
       "    (proposal_layer): ProposalLayer()\n",
       "  )\n",
       "  (proposal_target_layer): ProposalTargetLayer()\n",
       "  (roi_pool): RoIPool()\n",
       "  (fc6): DataParallel(\n",
       "    (module): FC(\n",
       "      (fc): Linear(in_features=25088, out_features=4096, bias=True)\n",
       "      (relu): ReLU(inplace)\n",
       "    )\n",
       "  )\n",
       "  (fc7): DataParallel(\n",
       "    (module): FC(\n",
       "      (fc): Linear(in_features=4096, out_features=4096, bias=True)\n",
       "      (relu): ReLU(inplace)\n",
       "    )\n",
       "  )\n",
       "  (score_fc): DataParallel(\n",
       "    (module): FC(\n",
       "      (fc): Linear(in_features=4096, out_features=81, bias=True)\n",
       "    )\n",
       "  )\n",
       "  (bbox_fc): DataParallel(\n",
       "    (module): FC(\n",
       "      (fc): Linear(in_features=4096, out_features=324, bias=True)\n",
       "    )\n",
       "  )\n",
       ")"
      ]
     },
     "execution_count": 8,
     "metadata": {},
     "output_type": "execute_result"
    }
   ],
   "source": [
    "net = FastRCNN(categories, debug=False)\n",
    "net.cuda()\n",
    "net.train()"
   ]
  },
  {
   "cell_type": "code",
   "execution_count": 9,
   "metadata": {},
   "outputs": [],
   "source": [
    "param = filter(lambda x: x.requires_grad, net.parameters())\n",
    "optimizer = SGD(param, lr=1e-3, momentum=0.9, weight_decay=0.0005)\n",
    "exp_lr_scheduler = StepLR(optimizer, step_size=1000, gamma=0.95)"
   ]
  },
  {
   "cell_type": "code",
   "execution_count": 10,
   "metadata": {},
   "outputs": [],
   "source": [
    "def evaluate(data_gen ,model, steps_per_epoch=2000, epochs=1):\n",
    "    model.eval()\n",
    "    val_loss = AverageMeter()\n",
    "    val_cross_entropy = AverageMeter()\n",
    "    val_loss_box = AverageMeter()\n",
    "    val_rpn_loss = AverageMeter()\n",
    "    \n",
    "    for epoch in range(epochs):\n",
    "        for step in range(1, steps_per_epoch +1):\n",
    "            blobs = data_gen.next()\n",
    "            batch_tensor, im_info, batch_boxes, batch_boxes_index = convert_data(blobs)\n",
    "            cls_prob, bbox_pred, rois = model(batch_tensor, im_info, batch_boxes, batch_boxes_index)\n",
    "\n",
    "            loss = model.loss\n",
    "            \n",
    "            val_loss_box.update(model.loss_box.item())\n",
    "            val_cross_entropy.update(model.cross_entropy.item())\n",
    "            val_loss.update(loss.item())\n",
    "            val_rpn_loss.update(model.rpn.loss.item())\n",
    "    \n",
    "    log_text = 'val_loss: %.4f' % (val_loss.avg)\n",
    "    print(log_text)\n",
    "    return val_loss ,val_cross_entropy, val_loss_box, val_rpn_loss\n"
   ]
  },
  {
   "cell_type": "code",
   "execution_count": 11,
   "metadata": {},
   "outputs": [],
   "source": [
    "def train(train_data_gen, val_data_gen, optimizer, lr_scheduler ,model, epochs, steps_per_epoch, val_step_per_epoch):\n",
    "    \n",
    "    exp_name = datetime.now().strftime('vgg16_%m-%d_%H-%M')\n",
    "    cc = CrayonClient(hostname=\"crayon\", port=8889)\n",
    "    exp = cc.create_experiment(exp_name)\n",
    "    \n",
    "    \n",
    "    train_loss = AverageMeter()\n",
    "    cross_entropy = AverageMeter()\n",
    "    loss_box = AverageMeter()\n",
    "    rpn_loss = AverageMeter()\n",
    "    current_step = 0\n",
    "    \n",
    "    for epoch in range(epochs):\n",
    "        model.train()\n",
    "        for step in range(1, steps_per_epoch +1):\n",
    "            lr_scheduler.step()        \n",
    "            blobs = data_gen.next()\n",
    "            batch_tensor, im_info, batch_boxes, batch_boxes_index = convert_data(blobs)\n",
    "\n",
    "            cls_prob, bbox_pred, rois = model(batch_tensor, im_info, batch_boxes, batch_boxes_index)\n",
    "            cls_data = cls_prob.data.cpu().numpy()\n",
    "            max_class_idx = np.argmax(cls_data, axis=1)\n",
    "            loss = model.loss\n",
    "            cross_entropy.update(model.cross_entropy.item())\n",
    "            loss_box.update(model.loss_box.item())\n",
    "            train_loss.update(loss.item())\n",
    "            rpn_loss.update(model.rpn.loss.item())\n",
    "            optimizer.zero_grad()\n",
    "            loss.backward()\n",
    "            optimizer.step()\n",
    "\n",
    "            current_step = epoch * steps_per_epoch + step\n",
    "            if step % 20 == 1:\n",
    "                log_text = 'epoch: %d : step %d,  loss: %.4f at %s' % (\n",
    "                    epoch + 1, step , train_loss.avg, datetime.now().strftime('%m\\%d_%H:%M'))\n",
    "                print(log_text)\n",
    "\n",
    "            if step % 20 == 0:\n",
    "                exp.add_scalar_value('train_loss', train_loss.avg, step=current_step)\n",
    "                exp.add_scalar_value('rpn_loss', rpn_loss.avg, step=current_step)\n",
    "                exp.add_scalar_value('cross_entropy', cross_entropy.avg, step=current_step)\n",
    "                exp.add_scalar_value('loss_box', loss_box.avg, step=current_step)\n",
    "\n",
    "\n",
    "                \n",
    "        torch.save(model.state_dict(), './checkpoints/faster_model_at_epoch_%s.pkl' % (epoch + 1)) \n",
    "        val_loss ,val_cross_entropy, val_loss_box, val_rpn_loss = evaluate(val_data_gen, model, val_step_per_epoch)\n",
    "        exp.add_scalar_value('val_loss', val_loss.avg, step=current_step)\n",
    "        exp.add_scalar_value('val_rpn_loss', val_rpn_loss.avg, step=current_step)\n",
    "        exp.add_scalar_value('val_cross_entropy', val_cross_entropy.avg, step=current_step)\n",
    "        exp.add_scalar_value('val_loss_box', val_loss_box.avg, step=current_step)"
   ]
  },
  {
   "cell_type": "code",
   "execution_count": null,
   "metadata": {},
   "outputs": [
    {
     "name": "stderr",
     "output_type": "stream",
     "text": [
      "faster_rcnn/rpn_msr/anchor_target_layer.py:202: FutureWarning: Using a non-tuple sequence for multidimensional indexing is deprecated; use `arr[tuple(seq)]` instead of `arr[seq]`. In the future this will be interpreted as an array index, `arr[np.array(seq)]`, which will result either in an error or a different result.\n",
      "  current_batch_boxes = batch_boxes[[batch_boxes_index == i]]\n",
      "faster_rcnn/rpn_msr/proposal_target_layer.py:75: FutureWarning: Using a non-tuple sequence for multidimensional indexing is deprecated; use `arr[tuple(seq)]` instead of `arr[seq]`. In the future this will be interpreted as an array index, `arr[np.array(seq)]`, which will result either in an error or a different result.\n",
      "  current_gt_boxes = gt_boxes[[gt_boxes_index == i]]\n",
      "faster_rcnn/faster_rcnn.py:169: UserWarning: Implicit dimension choice for softmax has been deprecated. Change the call to include dim=X as an argument.\n",
      "  cls_prob = F.softmax(cls_score)\n"
     ]
    },
    {
     "name": "stdout",
     "output_type": "stream",
     "text": [
      "epoch: 1 : step 1,  loss: 10.8467 at 08\\24_04:48\n",
      "epoch: 1 : step 21,  loss: 6.4949 at 08\\24_04:49\n",
      "epoch: 1 : step 41,  loss: 5.6954 at 08\\24_04:49\n"
     ]
    },
    {
     "name": "stderr",
     "output_type": "stream",
     "text": [
      "INFO:faster_rcnn.utils.datasets.mscoco.dataset:need more than 0 values to unpack\n"
     ]
    },
    {
     "name": "stdout",
     "output_type": "stream",
     "text": [
      "epoch: 1 : step 61,  loss: 5.1289 at 08\\24_04:50\n"
     ]
    },
    {
     "name": "stderr",
     "output_type": "stream",
     "text": [
      "INFO:faster_rcnn.utils.datasets.mscoco.dataset:need more than 0 values to unpack\n"
     ]
    },
    {
     "name": "stdout",
     "output_type": "stream",
     "text": [
      "epoch: 1 : step 81,  loss: 4.7228 at 08\\24_04:51\n"
     ]
    },
    {
     "name": "stderr",
     "output_type": "stream",
     "text": [
      "INFO:faster_rcnn.utils.datasets.mscoco.dataset:need more than 0 values to unpack\n",
      "INFO:faster_rcnn.utils.datasets.mscoco.dataset:need more than 0 values to unpack\n"
     ]
    },
    {
     "name": "stdout",
     "output_type": "stream",
     "text": [
      "epoch: 1 : step 101,  loss: 4.5000 at 08\\24_04:51\n",
      "epoch: 1 : step 121,  loss: 4.2928 at 08\\24_04:52\n",
      "epoch: 1 : step 141,  loss: 4.1631 at 08\\24_04:52\n"
     ]
    },
    {
     "name": "stderr",
     "output_type": "stream",
     "text": [
      "INFO:faster_rcnn.utils.datasets.mscoco.dataset:need more than 0 values to unpack\n"
     ]
    },
    {
     "name": "stdout",
     "output_type": "stream",
     "text": [
      "epoch: 1 : step 161,  loss: 4.0559 at 08\\24_04:53\n"
     ]
    },
    {
     "name": "stderr",
     "output_type": "stream",
     "text": [
      "INFO:faster_rcnn.utils.datasets.mscoco.dataset:need more than 0 values to unpack\n"
     ]
    },
    {
     "name": "stdout",
     "output_type": "stream",
     "text": [
      "epoch: 1 : step 181,  loss: 3.9496 at 08\\24_04:53\n",
      "epoch: 1 : step 201,  loss: 3.8719 at 08\\24_04:54\n",
      "epoch: 1 : step 221,  loss: 3.8356 at 08\\24_04:54\n",
      "epoch: 1 : step 241,  loss: 3.8070 at 08\\24_04:55\n",
      "epoch: 1 : step 261,  loss: 3.7659 at 08\\24_04:55\n"
     ]
    },
    {
     "name": "stderr",
     "output_type": "stream",
     "text": [
      "INFO:faster_rcnn.utils.datasets.mscoco.dataset:need more than 0 values to unpack\n"
     ]
    },
    {
     "name": "stdout",
     "output_type": "stream",
     "text": [
      "epoch: 1 : step 281,  loss: 3.7179 at 08\\24_04:56\n",
      "epoch: 1 : step 301,  loss: 3.6874 at 08\\24_04:56\n"
     ]
    },
    {
     "name": "stderr",
     "output_type": "stream",
     "text": [
      "INFO:faster_rcnn.utils.datasets.mscoco.dataset:need more than 0 values to unpack\n"
     ]
    },
    {
     "name": "stdout",
     "output_type": "stream",
     "text": [
      "epoch: 1 : step 321,  loss: 3.6653 at 08\\24_04:57\n"
     ]
    },
    {
     "name": "stderr",
     "output_type": "stream",
     "text": [
      "INFO:faster_rcnn.utils.datasets.mscoco.dataset:need more than 0 values to unpack\n",
      "INFO:faster_rcnn.utils.datasets.mscoco.dataset:need more than 0 values to unpack\n"
     ]
    },
    {
     "name": "stdout",
     "output_type": "stream",
     "text": [
      "epoch: 1 : step 341,  loss: 3.6381 at 08\\24_04:57\n",
      "epoch: 1 : step 361,  loss: 3.6046 at 08\\24_04:58\n"
     ]
    },
    {
     "name": "stderr",
     "output_type": "stream",
     "text": [
      "INFO:faster_rcnn.utils.datasets.mscoco.dataset:need more than 0 values to unpack\n",
      "INFO:faster_rcnn.utils.datasets.mscoco.dataset:need more than 0 values to unpack\n"
     ]
    },
    {
     "name": "stdout",
     "output_type": "stream",
     "text": [
      "epoch: 1 : step 381,  loss: 3.5747 at 08\\24_04:58\n"
     ]
    },
    {
     "name": "stderr",
     "output_type": "stream",
     "text": [
      "INFO:faster_rcnn.utils.datasets.mscoco.dataset:need more than 0 values to unpack\n"
     ]
    },
    {
     "name": "stdout",
     "output_type": "stream",
     "text": [
      "epoch: 1 : step 401,  loss: 3.5483 at 08\\24_04:59\n"
     ]
    },
    {
     "name": "stderr",
     "output_type": "stream",
     "text": [
      "INFO:faster_rcnn.utils.datasets.mscoco.dataset:need more than 0 values to unpack\n",
      "INFO:faster_rcnn.utils.datasets.mscoco.dataset:need more than 0 values to unpack\n"
     ]
    },
    {
     "name": "stdout",
     "output_type": "stream",
     "text": [
      "epoch: 1 : step 421,  loss: 3.5323 at 08\\24_04:59\n",
      "epoch: 1 : step 441,  loss: 3.5128 at 08\\24_05:00\n"
     ]
    },
    {
     "name": "stderr",
     "output_type": "stream",
     "text": [
      "INFO:faster_rcnn.utils.datasets.mscoco.dataset:need more than 0 values to unpack\n",
      "INFO:faster_rcnn.utils.datasets.mscoco.dataset:need more than 0 values to unpack\n"
     ]
    },
    {
     "name": "stdout",
     "output_type": "stream",
     "text": [
      "epoch: 1 : step 461,  loss: 3.4958 at 08\\24_05:01\n"
     ]
    },
    {
     "name": "stderr",
     "output_type": "stream",
     "text": [
      "INFO:faster_rcnn.utils.datasets.mscoco.dataset:need more than 0 values to unpack\n",
      "INFO:faster_rcnn.utils.datasets.mscoco.dataset:need more than 0 values to unpack\n"
     ]
    },
    {
     "name": "stdout",
     "output_type": "stream",
     "text": [
      "epoch: 1 : step 481,  loss: 3.4794 at 08\\24_05:01\n"
     ]
    },
    {
     "name": "stderr",
     "output_type": "stream",
     "text": [
      "INFO:faster_rcnn.utils.datasets.mscoco.dataset:need more than 0 values to unpack\n",
      "INFO:faster_rcnn.utils.datasets.mscoco.dataset:need more than 0 values to unpack\n"
     ]
    },
    {
     "name": "stdout",
     "output_type": "stream",
     "text": [
      "epoch: 1 : step 501,  loss: 3.4535 at 08\\24_05:02\n",
      "epoch: 1 : step 521,  loss: 3.4383 at 08\\24_05:02\n"
     ]
    },
    {
     "name": "stderr",
     "output_type": "stream",
     "text": [
      "INFO:faster_rcnn.utils.datasets.mscoco.dataset:need more than 0 values to unpack\n",
      "INFO:faster_rcnn.utils.datasets.mscoco.dataset:need more than 0 values to unpack\n"
     ]
    },
    {
     "name": "stdout",
     "output_type": "stream",
     "text": [
      "epoch: 1 : step 541,  loss: 3.4258 at 08\\24_05:03\n"
     ]
    },
    {
     "name": "stderr",
     "output_type": "stream",
     "text": [
      "INFO:faster_rcnn.utils.datasets.mscoco.dataset:need more than 0 values to unpack\n",
      "INFO:faster_rcnn.utils.datasets.mscoco.dataset:need more than 0 values to unpack\n",
      "INFO:faster_rcnn.utils.datasets.mscoco.dataset:need more than 0 values to unpack\n"
     ]
    },
    {
     "name": "stdout",
     "output_type": "stream",
     "text": [
      "epoch: 1 : step 561,  loss: 3.4143 at 08\\24_05:03\n"
     ]
    },
    {
     "name": "stderr",
     "output_type": "stream",
     "text": [
      "INFO:faster_rcnn.utils.datasets.mscoco.dataset:need more than 0 values to unpack\n",
      "INFO:faster_rcnn.utils.datasets.mscoco.dataset:need more than 0 values to unpack\n"
     ]
    },
    {
     "name": "stdout",
     "output_type": "stream",
     "text": [
      "epoch: 1 : step 581,  loss: 3.3930 at 08\\24_05:04\n"
     ]
    },
    {
     "name": "stderr",
     "output_type": "stream",
     "text": [
      "INFO:faster_rcnn.utils.datasets.mscoco.dataset:need more than 0 values to unpack\n",
      "INFO:faster_rcnn.utils.datasets.mscoco.dataset:need more than 0 values to unpack\n",
      "INFO:faster_rcnn.utils.datasets.mscoco.dataset:need more than 0 values to unpack\n"
     ]
    },
    {
     "name": "stdout",
     "output_type": "stream",
     "text": [
      "epoch: 1 : step 601,  loss: 3.3746 at 08\\24_05:04\n"
     ]
    },
    {
     "name": "stderr",
     "output_type": "stream",
     "text": [
      "INFO:faster_rcnn.utils.datasets.mscoco.dataset:need more than 0 values to unpack\n",
      "INFO:faster_rcnn.utils.datasets.mscoco.dataset:need more than 0 values to unpack\n"
     ]
    },
    {
     "name": "stdout",
     "output_type": "stream",
     "text": [
      "epoch: 1 : step 621,  loss: 3.3625 at 08\\24_05:05\n"
     ]
    },
    {
     "name": "stderr",
     "output_type": "stream",
     "text": [
      "INFO:faster_rcnn.utils.datasets.mscoco.dataset:need more than 0 values to unpack\n",
      "INFO:faster_rcnn.utils.datasets.mscoco.dataset:need more than 0 values to unpack\n"
     ]
    },
    {
     "name": "stdout",
     "output_type": "stream",
     "text": [
      "epoch: 1 : step 641,  loss: 3.3505 at 08\\24_05:05\n"
     ]
    },
    {
     "name": "stderr",
     "output_type": "stream",
     "text": [
      "INFO:faster_rcnn.utils.datasets.mscoco.dataset:need more than 0 values to unpack\n",
      "INFO:faster_rcnn.utils.datasets.mscoco.dataset:need more than 0 values to unpack\n"
     ]
    },
    {
     "name": "stdout",
     "output_type": "stream",
     "text": [
      "epoch: 1 : step 661,  loss: 3.3362 at 08\\24_05:06\n",
      "epoch: 1 : step 681,  loss: 3.3280 at 08\\24_05:06\n"
     ]
    },
    {
     "name": "stderr",
     "output_type": "stream",
     "text": [
      "INFO:faster_rcnn.utils.datasets.mscoco.dataset:need more than 0 values to unpack\n"
     ]
    },
    {
     "name": "stdout",
     "output_type": "stream",
     "text": [
      "epoch: 1 : step 701,  loss: 3.3138 at 08\\24_05:07\n"
     ]
    },
    {
     "name": "stderr",
     "output_type": "stream",
     "text": [
      "INFO:faster_rcnn.utils.datasets.mscoco.dataset:need more than 0 values to unpack\n",
      "INFO:faster_rcnn.utils.datasets.mscoco.dataset:need more than 0 values to unpack\n"
     ]
    },
    {
     "name": "stdout",
     "output_type": "stream",
     "text": [
      "epoch: 1 : step 721,  loss: 3.3003 at 08\\24_05:07\n",
      "epoch: 1 : step 741,  loss: 3.2916 at 08\\24_05:08\n"
     ]
    },
    {
     "name": "stderr",
     "output_type": "stream",
     "text": [
      "INFO:faster_rcnn.utils.datasets.mscoco.dataset:need more than 0 values to unpack\n"
     ]
    },
    {
     "name": "stdout",
     "output_type": "stream",
     "text": [
      "epoch: 1 : step 761,  loss: 3.2857 at 08\\24_05:08\n"
     ]
    },
    {
     "name": "stderr",
     "output_type": "stream",
     "text": [
      "INFO:faster_rcnn.utils.datasets.mscoco.dataset:need more than 0 values to unpack\n"
     ]
    },
    {
     "name": "stdout",
     "output_type": "stream",
     "text": [
      "epoch: 1 : step 781,  loss: 3.2789 at 08\\24_05:09\n"
     ]
    },
    {
     "name": "stderr",
     "output_type": "stream",
     "text": [
      "INFO:faster_rcnn.utils.datasets.mscoco.dataset:need more than 0 values to unpack\n"
     ]
    },
    {
     "name": "stdout",
     "output_type": "stream",
     "text": [
      "epoch: 1 : step 801,  loss: 3.2677 at 08\\24_05:09\n",
      "epoch: 1 : step 821,  loss: 3.2587 at 08\\24_05:10\n"
     ]
    },
    {
     "name": "stderr",
     "output_type": "stream",
     "text": [
      "INFO:faster_rcnn.utils.datasets.mscoco.dataset:need more than 0 values to unpack\n"
     ]
    },
    {
     "name": "stdout",
     "output_type": "stream",
     "text": [
      "epoch: 1 : step 841,  loss: 3.2515 at 08\\24_05:10\n"
     ]
    },
    {
     "name": "stderr",
     "output_type": "stream",
     "text": [
      "INFO:faster_rcnn.utils.datasets.mscoco.dataset:need more than 0 values to unpack\n",
      "INFO:faster_rcnn.utils.datasets.mscoco.dataset:need more than 0 values to unpack\n",
      "INFO:faster_rcnn.utils.datasets.mscoco.dataset:need more than 0 values to unpack\n"
     ]
    },
    {
     "name": "stdout",
     "output_type": "stream",
     "text": [
      "epoch: 1 : step 861,  loss: 3.2427 at 08\\24_05:11\n"
     ]
    },
    {
     "name": "stderr",
     "output_type": "stream",
     "text": [
      "INFO:faster_rcnn.utils.datasets.mscoco.dataset:need more than 0 values to unpack\n"
     ]
    },
    {
     "name": "stdout",
     "output_type": "stream",
     "text": [
      "epoch: 1 : step 881,  loss: 3.2369 at 08\\24_05:11\n",
      "epoch: 1 : step 901,  loss: 3.2298 at 08\\24_05:12\n"
     ]
    },
    {
     "name": "stderr",
     "output_type": "stream",
     "text": [
      "INFO:faster_rcnn.utils.datasets.mscoco.dataset:need more than 0 values to unpack\n"
     ]
    },
    {
     "name": "stdout",
     "output_type": "stream",
     "text": [
      "epoch: 1 : step 921,  loss: 3.2259 at 08\\24_05:12\n",
      "epoch: 1 : step 941,  loss: 3.2191 at 08\\24_05:13\n"
     ]
    },
    {
     "name": "stderr",
     "output_type": "stream",
     "text": [
      "INFO:faster_rcnn.utils.datasets.mscoco.dataset:need more than 0 values to unpack\n",
      "INFO:faster_rcnn.utils.datasets.mscoco.dataset:need more than 0 values to unpack\n"
     ]
    },
    {
     "name": "stdout",
     "output_type": "stream",
     "text": [
      "epoch: 1 : step 961,  loss: 3.2093 at 08\\24_05:13\n"
     ]
    },
    {
     "name": "stderr",
     "output_type": "stream",
     "text": [
      "INFO:faster_rcnn.utils.datasets.mscoco.dataset:need more than 0 values to unpack\n"
     ]
    },
    {
     "name": "stdout",
     "output_type": "stream",
     "text": [
      "epoch: 1 : step 981,  loss: 3.2047 at 08\\24_05:14\n",
      "epoch: 1 : step 1001,  loss: 3.1983 at 08\\24_05:14\n"
     ]
    },
    {
     "name": "stderr",
     "output_type": "stream",
     "text": [
      "INFO:faster_rcnn.utils.datasets.mscoco.dataset:need more than 0 values to unpack\n"
     ]
    },
    {
     "name": "stdout",
     "output_type": "stream",
     "text": [
      "epoch: 1 : step 1021,  loss: 3.1902 at 08\\24_05:15\n",
      "epoch: 1 : step 1041,  loss: 3.1809 at 08\\24_05:15\n"
     ]
    },
    {
     "name": "stderr",
     "output_type": "stream",
     "text": [
      "INFO:faster_rcnn.utils.datasets.mscoco.dataset:need more than 0 values to unpack\n"
     ]
    },
    {
     "name": "stdout",
     "output_type": "stream",
     "text": [
      "epoch: 1 : step 1061,  loss: 3.1733 at 08\\24_05:16\n",
      "epoch: 1 : step 1081,  loss: 3.1680 at 08\\24_05:16\n"
     ]
    },
    {
     "name": "stderr",
     "output_type": "stream",
     "text": [
      "INFO:faster_rcnn.utils.datasets.mscoco.dataset:need more than 0 values to unpack\n"
     ]
    },
    {
     "name": "stdout",
     "output_type": "stream",
     "text": [
      "epoch: 1 : step 1101,  loss: 3.1609 at 08\\24_05:17\n"
     ]
    },
    {
     "name": "stderr",
     "output_type": "stream",
     "text": [
      "INFO:faster_rcnn.utils.datasets.mscoco.dataset:need more than 0 values to unpack\n",
      "INFO:faster_rcnn.utils.datasets.mscoco.dataset:need more than 0 values to unpack\n"
     ]
    },
    {
     "name": "stdout",
     "output_type": "stream",
     "text": [
      "epoch: 1 : step 1121,  loss: 3.1558 at 08\\24_05:17\n"
     ]
    },
    {
     "name": "stderr",
     "output_type": "stream",
     "text": [
      "INFO:faster_rcnn.utils.datasets.mscoco.dataset:need more than 0 values to unpack\n",
      "INFO:faster_rcnn.utils.datasets.mscoco.dataset:need more than 0 values to unpack\n",
      "INFO:faster_rcnn.utils.datasets.mscoco.dataset:need more than 0 values to unpack\n",
      "INFO:faster_rcnn.utils.datasets.mscoco.dataset:need more than 0 values to unpack\n",
      "INFO:faster_rcnn.utils.datasets.mscoco.dataset:need more than 0 values to unpack\n",
      "INFO:faster_rcnn.utils.datasets.mscoco.dataset:need more than 0 values to unpack\n"
     ]
    },
    {
     "name": "stdout",
     "output_type": "stream",
     "text": [
      "epoch: 1 : step 1141,  loss: 3.1488 at 08\\24_05:18\n",
      "epoch: 1 : step 1161,  loss: 3.1410 at 08\\24_05:18\n"
     ]
    },
    {
     "name": "stderr",
     "output_type": "stream",
     "text": [
      "INFO:faster_rcnn.utils.datasets.mscoco.dataset:need more than 0 values to unpack\n",
      "INFO:faster_rcnn.utils.datasets.mscoco.dataset:need more than 0 values to unpack\n",
      "INFO:faster_rcnn.utils.datasets.mscoco.dataset:need more than 0 values to unpack\n"
     ]
    },
    {
     "name": "stdout",
     "output_type": "stream",
     "text": [
      "epoch: 1 : step 1181,  loss: 3.1356 at 08\\24_05:19\n"
     ]
    },
    {
     "name": "stderr",
     "output_type": "stream",
     "text": [
      "INFO:faster_rcnn.utils.datasets.mscoco.dataset:need more than 0 values to unpack\n",
      "INFO:faster_rcnn.utils.datasets.mscoco.dataset:need more than 0 values to unpack\n",
      "INFO:faster_rcnn.utils.datasets.mscoco.dataset:need more than 0 values to unpack\n"
     ]
    },
    {
     "name": "stdout",
     "output_type": "stream",
     "text": [
      "epoch: 1 : step 1201,  loss: 3.1287 at 08\\24_05:19\n"
     ]
    },
    {
     "name": "stderr",
     "output_type": "stream",
     "text": [
      "INFO:faster_rcnn.utils.datasets.mscoco.dataset:need more than 0 values to unpack\n"
     ]
    },
    {
     "name": "stdout",
     "output_type": "stream",
     "text": [
      "epoch: 1 : step 1221,  loss: 3.1228 at 08\\24_05:20\n",
      "epoch: 1 : step 1241,  loss: 3.1208 at 08\\24_05:20\n",
      "epoch: 1 : step 1261,  loss: 3.1152 at 08\\24_05:21\n",
      "epoch: 1 : step 1281,  loss: 3.1084 at 08\\24_05:21\n"
     ]
    },
    {
     "name": "stderr",
     "output_type": "stream",
     "text": [
      "INFO:faster_rcnn.utils.datasets.mscoco.dataset:need more than 0 values to unpack\n",
      "INFO:faster_rcnn.utils.datasets.mscoco.dataset:need more than 0 values to unpack\n",
      "INFO:faster_rcnn.utils.datasets.mscoco.dataset:need more than 0 values to unpack\n",
      "INFO:faster_rcnn.utils.datasets.mscoco.dataset:need more than 0 values to unpack\n"
     ]
    },
    {
     "name": "stdout",
     "output_type": "stream",
     "text": [
      "epoch: 1 : step 1301,  loss: 3.1030 at 08\\24_05:22\n"
     ]
    },
    {
     "name": "stderr",
     "output_type": "stream",
     "text": [
      "INFO:faster_rcnn.utils.datasets.mscoco.dataset:need more than 0 values to unpack\n"
     ]
    },
    {
     "name": "stdout",
     "output_type": "stream",
     "text": [
      "epoch: 1 : step 1321,  loss: 3.0954 at 08\\24_05:22\n"
     ]
    },
    {
     "name": "stderr",
     "output_type": "stream",
     "text": [
      "INFO:faster_rcnn.utils.datasets.mscoco.dataset:need more than 0 values to unpack\n",
      "INFO:faster_rcnn.utils.datasets.mscoco.dataset:need more than 0 values to unpack\n"
     ]
    },
    {
     "name": "stdout",
     "output_type": "stream",
     "text": [
      "epoch: 1 : step 1341,  loss: 3.0886 at 08\\24_05:23\n"
     ]
    },
    {
     "name": "stderr",
     "output_type": "stream",
     "text": [
      "INFO:faster_rcnn.utils.datasets.mscoco.dataset:need more than 0 values to unpack\n"
     ]
    },
    {
     "name": "stdout",
     "output_type": "stream",
     "text": [
      "epoch: 1 : step 1361,  loss: 3.0844 at 08\\24_05:23\n"
     ]
    },
    {
     "name": "stderr",
     "output_type": "stream",
     "text": [
      "INFO:faster_rcnn.utils.datasets.mscoco.dataset:need more than 0 values to unpack\n"
     ]
    },
    {
     "name": "stdout",
     "output_type": "stream",
     "text": [
      "epoch: 1 : step 1381,  loss: 3.0783 at 08\\24_05:24\n",
      "epoch: 1 : step 1401,  loss: 3.0745 at 08\\24_05:24\n",
      "epoch: 1 : step 1421,  loss: 3.0714 at 08\\24_05:25\n"
     ]
    },
    {
     "name": "stderr",
     "output_type": "stream",
     "text": [
      "INFO:faster_rcnn.utils.datasets.mscoco.dataset:need more than 0 values to unpack\n"
     ]
    },
    {
     "name": "stdout",
     "output_type": "stream",
     "text": [
      "epoch: 1 : step 1441,  loss: 3.0669 at 08\\24_05:25\n"
     ]
    },
    {
     "name": "stderr",
     "output_type": "stream",
     "text": [
      "INFO:faster_rcnn.utils.datasets.mscoco.dataset:need more than 0 values to unpack\n",
      "INFO:faster_rcnn.utils.datasets.mscoco.dataset:need more than 0 values to unpack\n"
     ]
    },
    {
     "name": "stdout",
     "output_type": "stream",
     "text": [
      "epoch: 1 : step 1461,  loss: 3.0615 at 08\\24_05:26\n",
      "epoch: 1 : step 1481,  loss: 3.0544 at 08\\24_05:26\n"
     ]
    },
    {
     "name": "stderr",
     "output_type": "stream",
     "text": [
      "INFO:faster_rcnn.utils.datasets.mscoco.dataset:need more than 0 values to unpack\n"
     ]
    },
    {
     "name": "stdout",
     "output_type": "stream",
     "text": [
      "epoch: 1 : step 1501,  loss: 3.0481 at 08\\24_05:27\n"
     ]
    },
    {
     "name": "stderr",
     "output_type": "stream",
     "text": [
      "INFO:faster_rcnn.utils.datasets.mscoco.dataset:need more than 0 values to unpack\n",
      "INFO:faster_rcnn.utils.datasets.mscoco.dataset:need more than 0 values to unpack\n",
      "INFO:faster_rcnn.utils.datasets.mscoco.dataset:need more than 0 values to unpack\n"
     ]
    },
    {
     "name": "stdout",
     "output_type": "stream",
     "text": [
      "epoch: 1 : step 1521,  loss: 3.0421 at 08\\24_05:27\n",
      "epoch: 1 : step 1541,  loss: 3.0371 at 08\\24_05:28\n"
     ]
    },
    {
     "name": "stderr",
     "output_type": "stream",
     "text": [
      "INFO:faster_rcnn.utils.datasets.mscoco.dataset:need more than 0 values to unpack\n"
     ]
    },
    {
     "name": "stdout",
     "output_type": "stream",
     "text": [
      "epoch: 1 : step 1561,  loss: 3.0371 at 08\\24_05:28\n"
     ]
    },
    {
     "name": "stderr",
     "output_type": "stream",
     "text": [
      "INFO:faster_rcnn.utils.datasets.mscoco.dataset:need more than 0 values to unpack\n",
      "INFO:faster_rcnn.utils.datasets.mscoco.dataset:need more than 0 values to unpack\n"
     ]
    },
    {
     "name": "stdout",
     "output_type": "stream",
     "text": [
      "epoch: 1 : step 1581,  loss: 3.0379 at 08\\24_05:29\n",
      "epoch: 1 : step 1601,  loss: 3.0381 at 08\\24_05:29\n"
     ]
    },
    {
     "name": "stderr",
     "output_type": "stream",
     "text": [
      "INFO:faster_rcnn.utils.datasets.mscoco.dataset:need more than 0 values to unpack\n"
     ]
    },
    {
     "name": "stdout",
     "output_type": "stream",
     "text": [
      "epoch: 1 : step 1621,  loss: 3.0359 at 08\\24_05:30\n",
      "epoch: 1 : step 1641,  loss: 3.0327 at 08\\24_05:30\n"
     ]
    },
    {
     "name": "stderr",
     "output_type": "stream",
     "text": [
      "INFO:faster_rcnn.utils.datasets.mscoco.dataset:need more than 0 values to unpack\n"
     ]
    },
    {
     "name": "stdout",
     "output_type": "stream",
     "text": [
      "epoch: 1 : step 1661,  loss: 3.0315 at 08\\24_05:31\n"
     ]
    },
    {
     "name": "stderr",
     "output_type": "stream",
     "text": [
      "INFO:faster_rcnn.utils.datasets.mscoco.dataset:need more than 0 values to unpack\n"
     ]
    },
    {
     "name": "stdout",
     "output_type": "stream",
     "text": [
      "epoch: 1 : step 1681,  loss: 3.0294 at 08\\24_05:31\n"
     ]
    },
    {
     "name": "stderr",
     "output_type": "stream",
     "text": [
      "INFO:faster_rcnn.utils.datasets.mscoco.dataset:need more than 0 values to unpack\n"
     ]
    },
    {
     "name": "stdout",
     "output_type": "stream",
     "text": [
      "epoch: 1 : step 1701,  loss: 3.0270 at 08\\24_05:32\n"
     ]
    },
    {
     "name": "stderr",
     "output_type": "stream",
     "text": [
      "INFO:faster_rcnn.utils.datasets.mscoco.dataset:need more than 0 values to unpack\n"
     ]
    },
    {
     "name": "stdout",
     "output_type": "stream",
     "text": [
      "epoch: 1 : step 1721,  loss: 3.0254 at 08\\24_05:32\n"
     ]
    },
    {
     "name": "stderr",
     "output_type": "stream",
     "text": [
      "INFO:faster_rcnn.utils.datasets.mscoco.dataset:need more than 0 values to unpack\n",
      "INFO:faster_rcnn.utils.datasets.mscoco.dataset:need more than 0 values to unpack\n"
     ]
    },
    {
     "name": "stdout",
     "output_type": "stream",
     "text": [
      "epoch: 1 : step 1741,  loss: 3.0224 at 08\\24_05:33\n",
      "epoch: 1 : step 1761,  loss: 3.0196 at 08\\24_05:33\n"
     ]
    },
    {
     "name": "stderr",
     "output_type": "stream",
     "text": [
      "INFO:faster_rcnn.utils.datasets.mscoco.dataset:need more than 0 values to unpack\n"
     ]
    },
    {
     "name": "stdout",
     "output_type": "stream",
     "text": [
      "epoch: 1 : step 1781,  loss: 3.0161 at 08\\24_05:34\n"
     ]
    },
    {
     "name": "stderr",
     "output_type": "stream",
     "text": [
      "INFO:faster_rcnn.utils.datasets.mscoco.dataset:need more than 0 values to unpack\n"
     ]
    },
    {
     "name": "stdout",
     "output_type": "stream",
     "text": [
      "epoch: 1 : step 1801,  loss: 3.0158 at 08\\24_05:34\n"
     ]
    },
    {
     "name": "stderr",
     "output_type": "stream",
     "text": [
      "INFO:faster_rcnn.utils.datasets.mscoco.dataset:need more than 0 values to unpack\n"
     ]
    },
    {
     "name": "stdout",
     "output_type": "stream",
     "text": [
      "epoch: 1 : step 1821,  loss: 3.0150 at 08\\24_05:35\n"
     ]
    },
    {
     "name": "stderr",
     "output_type": "stream",
     "text": [
      "INFO:faster_rcnn.utils.datasets.mscoco.dataset:need more than 0 values to unpack\n",
      "INFO:faster_rcnn.utils.datasets.mscoco.dataset:need more than 0 values to unpack\n"
     ]
    },
    {
     "name": "stdout",
     "output_type": "stream",
     "text": [
      "epoch: 1 : step 1841,  loss: 3.0127 at 08\\24_05:35\n"
     ]
    },
    {
     "name": "stderr",
     "output_type": "stream",
     "text": [
      "INFO:faster_rcnn.utils.datasets.mscoco.dataset:need more than 0 values to unpack\n"
     ]
    },
    {
     "name": "stdout",
     "output_type": "stream",
     "text": [
      "epoch: 1 : step 1861,  loss: 3.0093 at 08\\24_05:35\n"
     ]
    },
    {
     "name": "stderr",
     "output_type": "stream",
     "text": [
      "INFO:faster_rcnn.utils.datasets.mscoco.dataset:need more than 0 values to unpack\n"
     ]
    },
    {
     "name": "stdout",
     "output_type": "stream",
     "text": [
      "epoch: 1 : step 1881,  loss: 3.0083 at 08\\24_05:36\n"
     ]
    },
    {
     "name": "stderr",
     "output_type": "stream",
     "text": [
      "INFO:faster_rcnn.utils.datasets.mscoco.dataset:need more than 0 values to unpack\n",
      "INFO:faster_rcnn.utils.datasets.mscoco.dataset:need more than 0 values to unpack\n"
     ]
    },
    {
     "name": "stdout",
     "output_type": "stream",
     "text": [
      "epoch: 1 : step 1901,  loss: 3.0062 at 08\\24_05:36\n"
     ]
    },
    {
     "name": "stderr",
     "output_type": "stream",
     "text": [
      "INFO:faster_rcnn.utils.datasets.mscoco.dataset:need more than 0 values to unpack\n",
      "INFO:faster_rcnn.utils.datasets.mscoco.dataset:need more than 0 values to unpack\n",
      "INFO:faster_rcnn.utils.datasets.mscoco.dataset:need more than 0 values to unpack\n"
     ]
    },
    {
     "name": "stdout",
     "output_type": "stream",
     "text": [
      "epoch: 1 : step 1921,  loss: 3.0033 at 08\\24_05:37\n"
     ]
    },
    {
     "name": "stderr",
     "output_type": "stream",
     "text": [
      "INFO:faster_rcnn.utils.datasets.mscoco.dataset:need more than 0 values to unpack\n",
      "INFO:faster_rcnn.utils.datasets.mscoco.dataset:need more than 0 values to unpack\n",
      "INFO:faster_rcnn.utils.datasets.mscoco.dataset:need more than 0 values to unpack\n"
     ]
    },
    {
     "name": "stdout",
     "output_type": "stream",
     "text": [
      "epoch: 1 : step 1941,  loss: 3.0005 at 08\\24_05:37\n"
     ]
    },
    {
     "name": "stderr",
     "output_type": "stream",
     "text": [
      "INFO:faster_rcnn.utils.datasets.mscoco.dataset:need more than 0 values to unpack\n",
      "INFO:faster_rcnn.utils.datasets.mscoco.dataset:need more than 0 values to unpack\n",
      "INFO:faster_rcnn.utils.datasets.mscoco.dataset:need more than 0 values to unpack\n"
     ]
    },
    {
     "name": "stdout",
     "output_type": "stream",
     "text": [
      "epoch: 1 : step 1961,  loss: 2.9977 at 08\\24_05:38\n"
     ]
    },
    {
     "name": "stderr",
     "output_type": "stream",
     "text": [
      "INFO:faster_rcnn.utils.datasets.mscoco.dataset:need more than 0 values to unpack\n",
      "INFO:faster_rcnn.utils.datasets.mscoco.dataset:need more than 0 values to unpack\n",
      "INFO:faster_rcnn.utils.datasets.mscoco.dataset:need more than 0 values to unpack\n"
     ]
    },
    {
     "name": "stdout",
     "output_type": "stream",
     "text": [
      "epoch: 1 : step 1981,  loss: 2.9958 at 08\\24_05:38\n",
      "epoch: 1 : step 2001,  loss: 2.9937 at 08\\24_05:39\n"
     ]
    },
    {
     "name": "stderr",
     "output_type": "stream",
     "text": [
      "INFO:faster_rcnn.utils.datasets.mscoco.dataset:need more than 0 values to unpack\n",
      "INFO:faster_rcnn.utils.datasets.mscoco.dataset:need more than 0 values to unpack\n"
     ]
    },
    {
     "name": "stdout",
     "output_type": "stream",
     "text": [
      "epoch: 1 : step 2021,  loss: 2.9895 at 08\\24_05:39\n"
     ]
    },
    {
     "name": "stderr",
     "output_type": "stream",
     "text": [
      "INFO:faster_rcnn.utils.datasets.mscoco.dataset:need more than 0 values to unpack\n",
      "INFO:faster_rcnn.utils.datasets.mscoco.dataset:need more than 0 values to unpack\n"
     ]
    },
    {
     "name": "stdout",
     "output_type": "stream",
     "text": [
      "epoch: 1 : step 2041,  loss: 2.9878 at 08\\24_05:40\n",
      "epoch: 1 : step 2061,  loss: 2.9856 at 08\\24_05:40\n"
     ]
    },
    {
     "name": "stderr",
     "output_type": "stream",
     "text": [
      "INFO:faster_rcnn.utils.datasets.mscoco.dataset:need more than 0 values to unpack\n",
      "INFO:faster_rcnn.utils.datasets.mscoco.dataset:need more than 0 values to unpack\n",
      "INFO:faster_rcnn.utils.datasets.mscoco.dataset:need more than 0 values to unpack\n"
     ]
    },
    {
     "name": "stdout",
     "output_type": "stream",
     "text": [
      "epoch: 1 : step 2081,  loss: 2.9847 at 08\\24_05:41\n"
     ]
    },
    {
     "name": "stderr",
     "output_type": "stream",
     "text": [
      "INFO:faster_rcnn.utils.datasets.mscoco.dataset:need more than 0 values to unpack\n",
      "INFO:faster_rcnn.utils.datasets.mscoco.dataset:need more than 0 values to unpack\n",
      "INFO:faster_rcnn.utils.datasets.mscoco.dataset:need more than 0 values to unpack\n",
      "INFO:faster_rcnn.utils.datasets.mscoco.dataset:need more than 0 values to unpack\n"
     ]
    },
    {
     "name": "stdout",
     "output_type": "stream",
     "text": [
      "epoch: 1 : step 2101,  loss: 2.9820 at 08\\24_05:41\n"
     ]
    },
    {
     "name": "stderr",
     "output_type": "stream",
     "text": [
      "INFO:faster_rcnn.utils.datasets.mscoco.dataset:need more than 0 values to unpack\n"
     ]
    },
    {
     "name": "stdout",
     "output_type": "stream",
     "text": [
      "epoch: 1 : step 2121,  loss: 2.9793 at 08\\24_05:42\n"
     ]
    },
    {
     "name": "stderr",
     "output_type": "stream",
     "text": [
      "INFO:faster_rcnn.utils.datasets.mscoco.dataset:need more than 0 values to unpack\n"
     ]
    },
    {
     "name": "stdout",
     "output_type": "stream",
     "text": [
      "epoch: 1 : step 2141,  loss: 2.9760 at 08\\24_05:42\n"
     ]
    },
    {
     "name": "stderr",
     "output_type": "stream",
     "text": [
      "INFO:faster_rcnn.utils.datasets.mscoco.dataset:need more than 0 values to unpack\n"
     ]
    },
    {
     "name": "stdout",
     "output_type": "stream",
     "text": [
      "epoch: 1 : step 2161,  loss: 2.9751 at 08\\24_05:43\n"
     ]
    },
    {
     "name": "stderr",
     "output_type": "stream",
     "text": [
      "INFO:faster_rcnn.utils.datasets.mscoco.dataset:need more than 0 values to unpack\n"
     ]
    }
   ],
   "source": [
    "train(train_data_generator, val_data_generator ,optimizer=optimizer,lr_scheduler=exp_lr_scheduler, model=net, epochs=200, steps_per_epoch=6000, val_step_per_epoch=1000)"
   ]
  },
  {
   "cell_type": "code",
   "execution_count": null,
   "metadata": {},
   "outputs": [],
   "source": [
    "net.load_state_dict(torch.load('faster.pkl'))"
   ]
  },
  {
   "cell_type": "code",
   "execution_count": null,
   "metadata": {},
   "outputs": [],
   "source": [
    "pred_boxes, scores, classes, rois, im_data = net.detect(\"./test7.jpg\", thr=0.5)\n",
    "print classes\n",
    "print scores\n",
    "print pred_boxes\n",
    "imshow(im_data[0],[] ,pred_boxes, random=True)"
   ]
  },
  {
   "cell_type": "code",
   "execution_count": 13,
   "metadata": {},
   "outputs": [
    {
     "name": "stdout",
     "output_type": "stream",
     "text": [
      "1\n"
     ]
    }
   ],
   "source": [
    "print 1"
   ]
  },
  {
   "cell_type": "code",
   "execution_count": 14,
   "metadata": {},
   "outputs": [
    {
     "data": {
      "text/plain": [
       "''"
      ]
     },
     "execution_count": 14,
     "metadata": {},
     "output_type": "execute_result"
    }
   ],
   "source": [
    "__"
   ]
  },
  {
   "cell_type": "code",
   "execution_count": null,
   "metadata": {},
   "outputs": [],
   "source": []
  }
 ],
 "metadata": {
  "kernelspec": {
   "display_name": "Python 2",
   "language": "python",
   "name": "python2"
  },
  "language_info": {
   "codemirror_mode": {
    "name": "ipython",
    "version": 2
   },
   "file_extension": ".py",
   "mimetype": "text/x-python",
   "name": "python",
   "nbconvert_exporter": "python",
   "pygments_lexer": "ipython2",
   "version": "2.7.15"
  }
 },
 "nbformat": 4,
 "nbformat_minor": 2
}
