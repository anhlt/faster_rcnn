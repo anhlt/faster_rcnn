{
 "cells": [
  {
   "cell_type": "code",
   "execution_count": 24,
   "metadata": {},
   "outputs": [
    {
     "name": "stdout",
     "output_type": "stream",
     "text": [
      "The autoreload extension is already loaded. To reload it, use:\n",
      "  %reload_ext autoreload\n"
     ]
    }
   ],
   "source": [
    "%matplotlib inline\n",
    "%load_ext autoreload\n",
    "%autoreload 2"
   ]
  },
  {
   "cell_type": "code",
   "execution_count": 25,
   "metadata": {},
   "outputs": [],
   "source": [
    "from faster_rcnn.utils.datasets.merge  import VOCMerge"
   ]
  },
  {
   "cell_type": "code",
   "execution_count": 26,
   "metadata": {},
   "outputs": [
    {
     "name": "stdout",
     "output_type": "stream",
     "text": [
      "350\n",
      "['__background__', u'2157', u'2157', u'2157', u'2157']\n",
      "96\n",
      "['__background__', u'2149']\n",
      "543\n",
      "['__background__', u'9']\n",
      "132\n",
      "['__background__', u'2063', u'2063']\n",
      "225\n",
      "['__background__', u'2071', u'2071', u'2071']\n",
      "142\n",
      "['__background__', u'2075', u'2075']\n",
      "1721\n",
      "['__background__', u'2077', u'2077', u'2077', u'2077', u'2077', u'2077', u'2077', u'2077', u'2077', u'2077', u'2077', u'2077', u'2077', u'2077', u'2077', u'2077', u'2077', u'2077', u'2077']\n",
      "736\n",
      "['__background__', u'3']\n",
      "345\n",
      "['__background__', u'2160', u'2160', u'2160', u'2160']\n",
      "1170\n",
      "['__background__', u'15']\n",
      "175\n",
      "['__background__', u'2150', u'2150']\n"
     ]
    }
   ],
   "source": [
    "ds = VOCMerge('./data/', 'train')"
   ]
  },
  {
   "cell_type": "code",
   "execution_count": 27,
   "metadata": {
    "scrolled": true
   },
   "outputs": [
    {
     "name": "stdout",
     "output_type": "stream",
     "text": [
      "{u'15': 10, u'3': 8, '__background__': 0, u'2157': 1, u'2150': 11, u'2075': 6, u'9': 3, u'2071': 5, u'2063': 4, u'2077': 7, u'2160': 9, u'2149': 2}\n",
      "['__background__', u'2157', u'2149', u'9', u'2063', u'2071', u'2075', u'2077', u'3', u'2160', u'15', u'2150']\n",
      "[0, 350, 446, 989, 1121, 1346, 1488, 3209, 3945, 4290, 5460, 5635]\n",
      "{u'15': <faster_rcnn.utils.datasets.voc.voc.VOCDetection object at 0x7efd2d56d3d0>, u'3': <faster_rcnn.utils.datasets.voc.voc.VOCDetection object at 0x7efd2d56d150>, u'2157': <faster_rcnn.utils.datasets.voc.voc.VOCDetection object at 0x7efd2d6a9b10>, u'2150': <faster_rcnn.utils.datasets.voc.voc.VOCDetection object at 0x7efd2d56d510>, u'2149': <faster_rcnn.utils.datasets.voc.voc.VOCDetection object at 0x7efd2d595910>, u'9': <faster_rcnn.utils.datasets.voc.voc.VOCDetection object at 0x7efd2d595a90>, u'2071': <faster_rcnn.utils.datasets.voc.voc.VOCDetection object at 0x7efd2d595c50>, u'2063': <faster_rcnn.utils.datasets.voc.voc.VOCDetection object at 0x7efd2d595d10>, u'2077': <faster_rcnn.utils.datasets.voc.voc.VOCDetection object at 0x7efd2d595fd0>, u'2160': <faster_rcnn.utils.datasets.voc.voc.VOCDetection object at 0x7efd2d56d290>, u'2075': <faster_rcnn.utils.datasets.voc.voc.VOCDetection object at 0x7efd2d595e90>}\n"
     ]
    }
   ],
   "source": [
    "print ds.label_map_dict\n",
    "print ds.classes\n",
    "print ds.sum_item\n",
    "print ds.sub_class_dict"
   ]
  },
  {
   "cell_type": "code",
   "execution_count": 28,
   "metadata": {
    "scrolled": true
   },
   "outputs": [
    {
     "data": {
      "text/plain": [
       "5635"
      ]
     },
     "execution_count": 28,
     "metadata": {},
     "output_type": "execute_result"
    }
   ],
   "source": [
    "len(ds)"
   ]
  },
  {
   "cell_type": "code",
   "execution_count": 30,
   "metadata": {},
   "outputs": [
    {
     "name": "stdout",
     "output_type": "stream",
     "text": [
      "11 174\n",
      "('2150', 11)\n"
     ]
    },
    {
     "data": {
      "text/plain": [
       "{'boxes': array([[ 18. , 300.6, 207.6, 439.2]]),\n",
       " 'gt_classes': array([11], dtype=int32),\n",
       " 'im_info': array([[600. , 600. ,   0.6]]),\n",
       " 'im_name': u'2_gs_2366377.jpg',\n",
       " 'tensor': tensor([[[[ 1.9064,  2.0092,  2.0434,  ...,  1.9407,  1.9407,  2.0263],\n",
       "           [ 1.9578,  1.9749,  1.9578,  ...,  1.9920,  1.9407,  1.9578],\n",
       "           [ 2.0263,  1.9920,  1.9235,  ...,  2.0605,  1.9749,  1.9407],\n",
       "           ...,\n",
       "           [ 1.9749,  1.9920,  2.0263,  ...,  1.9235,  1.9749,  2.0434],\n",
       "           [ 1.9235,  1.9578,  2.0092,  ...,  1.9749,  1.9578,  1.9749],\n",
       "           [ 2.0263,  1.9407,  1.9235,  ...,  2.0434,  1.9749,  1.8893]],\n",
       " \n",
       "          [[ 2.0259,  2.1310,  2.1660,  ...,  2.0609,  2.0609,  2.1485],\n",
       "           [ 2.0784,  2.0959,  2.0784,  ...,  2.1134,  2.0609,  2.0784],\n",
       "           [ 2.1485,  2.1134,  2.0434,  ...,  2.1835,  2.0959,  2.0609],\n",
       "           ...,\n",
       "           [ 2.0959,  2.1134,  2.1485,  ...,  2.0434,  2.0959,  2.1660],\n",
       "           [ 2.0434,  2.0784,  2.1310,  ...,  2.0959,  2.0784,  2.0959],\n",
       "           [ 2.1485,  2.0609,  2.0434,  ...,  2.1660,  2.0959,  2.0084]],\n",
       " \n",
       "          [[ 2.1520,  2.2566,  2.2914,  ...,  2.1868,  2.1868,  2.2740],\n",
       "           [ 2.2043,  2.2217,  2.2043,  ...,  2.2391,  2.1868,  2.2043],\n",
       "           [ 2.2740,  2.2391,  2.1694,  ...,  2.3088,  2.2217,  2.1868],\n",
       "           ...,\n",
       "           [ 2.2217,  2.2391,  2.2740,  ...,  2.1694,  2.2217,  2.2914],\n",
       "           [ 2.1694,  2.2043,  2.2566,  ...,  2.2217,  2.2043,  2.2217],\n",
       "           [ 2.2740,  2.1868,  2.1694,  ...,  2.2914,  2.2217,  2.1346]]]])}"
      ]
     },
     "execution_count": 30,
     "metadata": {},
     "output_type": "execute_result"
    }
   ],
   "source": [
    "ds[5634]"
   ]
  },
  {
   "cell_type": "code",
   "execution_count": 30,
   "metadata": {},
   "outputs": [
    {
     "data": {
      "text/plain": [
       "[0, 543, 1279, 2449]"
      ]
     },
     "execution_count": 30,
     "metadata": {},
     "output_type": "execute_result"
    }
   ],
   "source": [
    "[0, 543, 1279, 2449]dd"
   ]
  },
  {
   "cell_type": "code",
   "execution_count": 31,
   "metadata": {},
   "outputs": [
    {
     "data": {
      "text/plain": [
       "4"
      ]
     },
     "execution_count": 31,
     "metadata": {},
     "output_type": "execute_result"
    }
   ],
   "source": [
    "len(ds.sum_item)"
   ]
  },
  {
   "cell_type": "code",
   "execution_count": 32,
   "metadata": {},
   "outputs": [],
   "source": [
    "mid = int(len(ds.sum_item) / 2)"
   ]
  },
  {
   "cell_type": "code",
   "execution_count": 34,
   "metadata": {},
   "outputs": [
    {
     "data": {
      "text/plain": [
       "True"
      ]
     },
     "execution_count": 34,
     "metadata": {},
     "output_type": "execute_result"
    }
   ],
   "source": [
    "ds.sum_item[mid] < 2000"
   ]
  },
  {
   "cell_type": "code",
   "execution_count": 35,
   "metadata": {},
   "outputs": [],
   "source": [
    "a = [0, 543, 1279, 2449, 5000, 6000, 8000]"
   ]
  },
  {
   "cell_type": "code",
   "execution_count": 281,
   "metadata": {},
   "outputs": [],
   "source": [
    "def find(a, value, start, end):\n",
    "    mid = int((end + start) / 2)\n",
    "    print(start, mid, end,value, a[start], a[mid], a[end])\n",
    "    if end == start + 1:\n",
    "        return start, value - a[start]\n",
    "    if a[mid] < value:\n",
    "        print(mid+1, end)\n",
    "        return find(a, value, mid, end)\n",
    "    else: \n",
    "        print(start, mid)\n",
    "        return find(a, value, start, mid)\n"
   ]
  },
  {
   "cell_type": "code",
   "execution_count": 285,
   "metadata": {
    "scrolled": false
   },
   "outputs": [
    {
     "name": "stdout",
     "output_type": "stream",
     "text": [
      "(0, 3, 6, 2, 0, 2449, 8000)\n",
      "(0, 3)\n",
      "(0, 1, 3, 2, 0, 543, 2449)\n",
      "(0, 1)\n",
      "(0, 0, 1, 2, 0, 0, 543)\n",
      "(0, 2)\n"
     ]
    }
   ],
   "source": [
    "print(find(a, 2, 0, len(a)-1))"
   ]
  },
  {
   "cell_type": "code",
   "execution_count": 264,
   "metadata": {},
   "outputs": [],
   "source": [
    "b = [i for i in range(10)]"
   ]
  },
  {
   "cell_type": "code",
   "execution_count": 265,
   "metadata": {},
   "outputs": [
    {
     "ename": "IndexError",
     "evalue": "list index out of range",
     "output_type": "error",
     "traceback": [
      "\u001b[0;31m\u001b[0m",
      "\u001b[0;31mIndexError\u001b[0mTraceback (most recent call last)",
      "\u001b[0;32m<ipython-input-265-feb4c4abb631>\u001b[0m in \u001b[0;36m<module>\u001b[0;34m()\u001b[0m\n\u001b[0;32m----> 1\u001b[0;31m \u001b[0mb\u001b[0m\u001b[0;34m[\u001b[0m\u001b[0;36m10\u001b[0m\u001b[0;34m]\u001b[0m\u001b[0;34m\u001b[0m\u001b[0m\n\u001b[0m",
      "\u001b[0;31mIndexError\u001b[0m: list index out of range"
     ]
    }
   ],
   "source": [
    "b[10]"
   ]
  },
  {
   "cell_type": "code",
   "execution_count": null,
   "metadata": {},
   "outputs": [],
   "source": []
  }
 ],
 "metadata": {
  "kernelspec": {
   "display_name": "Python 2",
   "language": "python",
   "name": "python2"
  },
  "language_info": {
   "codemirror_mode": {
    "name": "ipython",
    "version": 2
   },
   "file_extension": ".py",
   "mimetype": "text/x-python",
   "name": "python",
   "nbconvert_exporter": "python",
   "pygments_lexer": "ipython2",
   "version": "2.7.15"
  }
 },
 "nbformat": 4,
 "nbformat_minor": 2
}
