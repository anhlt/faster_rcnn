{
 "cells": [
  {
   "cell_type": "code",
   "execution_count": 1,
   "metadata": {
    "collapsed": false
   },
   "outputs": [],
   "source": [
    "from layers import Affine\n",
    "from layers.affine import AffineFunction\n",
    "import matplotlib.pyplot as plt\n",
    "%load_ext autoreload\n",
    "%autoreload 2\n",
    "%matplotlib inline\n",
    "plt.rcParams['figure.figsize'] = (10.0, 8.0) # set default size of plots\n",
    "plt.rcParams['image.interpolation'] = 'nearest'\n",
    "plt.rcParams['image.cmap'] = 'gray'\n",
    "def rel_error(x, y):\n",
    "  \"\"\" returns relative error \"\"\"\n",
    "  return np.max(np.abs(x - y) / (np.maximum(1e-8, np.abs(x) + np.abs(y))))\n",
    "import numpy as np\n",
    "\n",
    "from torch.autograd import Variable\n",
    "import torch"
   ]
  },
  {
   "cell_type": "code",
   "execution_count": 2,
   "metadata": {
    "collapsed": true
   },
   "outputs": [],
   "source": [
    "from data_utils import get_CIFAR10_data"
   ]
  },
  {
   "cell_type": "code",
   "execution_count": 3,
   "metadata": {
    "collapsed": false
   },
   "outputs": [],
   "source": [
    "data = get_CIFAR10_data('../data/cifar-10-batches-py/')\n"
   ]
  },
  {
   "cell_type": "code",
   "execution_count": 3,
   "metadata": {
    "collapsed": false
   },
   "outputs": [
    {
     "name": "stdout",
     "output_type": "stream",
     "text": [
      "360\n",
      "240\n"
     ]
    }
   ],
   "source": [
    "dtype = torch.FloatTensor\n",
    "num_inputs = 2\n",
    "input_shape = (4, 5, 6)\n",
    "output_dim = 3\n",
    "\n",
    "input_size = num_inputs * np.prod(input_shape)\n",
    "weight_size = output_dim * np.prod(input_shape)\n",
    "print weight_size\n",
    "print input_size\n",
    "\n",
    "x = np.linspace(-0.1, 0.5, num=input_size).reshape(num_inputs, *input_shape).astype(np.float32)\n",
    "w = np.linspace(-0.2, 0.3, num=weight_size).reshape(np.prod(input_shape), output_dim).astype(np.float32)\n",
    "b = np.linspace(-0.3, 0.1, num=output_dim).astype(np.float32)\n",
    "y = np.random.uniform(low=0, high=1, size=(3, 2)).astype(np.float32)"
   ]
  },
  {
   "cell_type": "code",
   "execution_count": 10,
   "metadata": {
    "collapsed": false
   },
   "outputs": [],
   "source": [
    "Var_x = Variable(torch.from_numpy(x), requires_grad=True)\n",
    "Var_w = Variable(torch.from_numpy(w), requires_grad=True)\n",
    "Var_b = Variable(torch.from_numpy(b), requires_grad=True)\n",
    "Var_y = Variable(torch.from_numpy(y))\n",
    "affine = Affine(np.prod(input_shape), output_dim)"
   ]
  },
  {
   "cell_type": "code",
   "execution_count": 13,
   "metadata": {
    "collapsed": false
   },
   "outputs": [
    {
     "name": "stdout",
     "output_type": "stream",
     "text": [
      "Variable containing:\n",
      "-0.0249  0.0230 -0.2796\n",
      "-0.1762 -0.0961 -0.5716\n",
      "[torch.FloatTensor of size 2x3]\n",
      "\n"
     ]
    }
   ],
   "source": [
    "result = affine(Var_x)\n",
    "print result\n",
    "loss = (result - Var_y).pow(2).sum()"
   ]
  },
  {
   "cell_type": "code",
   "execution_count": 14,
   "metadata": {
    "collapsed": false
   },
   "outputs": [],
   "source": [
    "loss.backward()"
   ]
  },
  {
   "cell_type": "code",
   "execution_count": 18,
   "metadata": {
    "collapsed": false
   },
   "outputs": [
    {
     "data": {
      "text/plain": [
       "(2, 4, 5, 6)"
      ]
     },
     "execution_count": 18,
     "metadata": {},
     "output_type": "execute_result"
    }
   ],
   "source": [
    "Var_x.grad.data.numpy().shape"
   ]
  },
  {
   "cell_type": "code",
   "execution_count": 19,
   "metadata": {
    "collapsed": false
   },
   "outputs": [
    {
     "data": {
      "text/plain": [
       "Variable containing:\n",
       "-2.5916\n",
       "-1.7952\n",
       "-4.5890\n",
       "[torch.FloatTensor of size 3]"
      ]
     },
     "execution_count": 19,
     "metadata": {},
     "output_type": "execute_result"
    }
   ],
   "source": [
    "affine.bias.grad"
   ]
  },
  {
   "cell_type": "code",
   "execution_count": 20,
   "metadata": {
    "collapsed": false
   },
   "outputs": [
    {
     "data": {
      "text/plain": [
       "Variable containing:\n",
       "-0.1803 -0.0048 -0.2384\n",
       "-0.1868 -0.0093 -0.2499\n",
       "-0.1933 -0.0138 -0.2614\n",
       "-0.1998 -0.0183 -0.2729\n",
       "-0.2063 -0.0228 -0.2844\n",
       "-0.2128 -0.0273 -0.2960\n",
       "-0.2193 -0.0318 -0.3075\n",
       "-0.2258 -0.0363 -0.3190\n",
       "-0.2323 -0.0408 -0.3305\n",
       "-0.2388 -0.0453 -0.3421\n",
       "-0.2453 -0.0498 -0.3536\n",
       "-0.2518 -0.0543 -0.3651\n",
       "-0.2583 -0.0588 -0.3766\n",
       "-0.2648 -0.0633 -0.3881\n",
       "-0.2713 -0.0678 -0.3997\n",
       "-0.2778 -0.0724 -0.4112\n",
       "-0.2844 -0.0769 -0.4227\n",
       "-0.2909 -0.0814 -0.4342\n",
       "-0.2974 -0.0859 -0.4457\n",
       "-0.3039 -0.0904 -0.4573\n",
       "-0.3104 -0.0949 -0.4688\n",
       "-0.3169 -0.0994 -0.4803\n",
       "-0.3234 -0.1039 -0.4918\n",
       "-0.3299 -0.1084 -0.5033\n",
       "-0.3364 -0.1129 -0.5149\n",
       "-0.3429 -0.1174 -0.5264\n",
       "-0.3494 -0.1219 -0.5379\n",
       "-0.3559 -0.1264 -0.5494\n",
       "-0.3624 -0.1309 -0.5609\n",
       "-0.3689 -0.1355 -0.5725\n",
       "-0.3754 -0.1400 -0.5840\n",
       "-0.3819 -0.1445 -0.5955\n",
       "-0.3885 -0.1490 -0.6070\n",
       "-0.3950 -0.1535 -0.6185\n",
       "-0.4015 -0.1580 -0.6301\n",
       "-0.4080 -0.1625 -0.6416\n",
       "-0.4145 -0.1670 -0.6531\n",
       "-0.4210 -0.1715 -0.6646\n",
       "-0.4275 -0.1760 -0.6761\n",
       "-0.4340 -0.1805 -0.6877\n",
       "-0.4405 -0.1850 -0.6992\n",
       "-0.4470 -0.1895 -0.7107\n",
       "-0.4535 -0.1940 -0.7222\n",
       "-0.4600 -0.1985 -0.7337\n",
       "-0.4665 -0.2031 -0.7453\n",
       "-0.4730 -0.2076 -0.7568\n",
       "-0.4795 -0.2121 -0.7683\n",
       "-0.4860 -0.2166 -0.7798\n",
       "-0.4926 -0.2211 -0.7913\n",
       "-0.4991 -0.2256 -0.8029\n",
       "-0.5056 -0.2301 -0.8144\n",
       "-0.5121 -0.2346 -0.8259\n",
       "-0.5186 -0.2391 -0.8374\n",
       "-0.5251 -0.2436 -0.8490\n",
       "-0.5316 -0.2481 -0.8605\n",
       "-0.5381 -0.2526 -0.8720\n",
       "-0.5446 -0.2571 -0.8835\n",
       "-0.5511 -0.2616 -0.8950\n",
       "-0.5576 -0.2661 -0.9066\n",
       "-0.5641 -0.2707 -0.9181\n",
       "-0.5706 -0.2752 -0.9296\n",
       "-0.5771 -0.2797 -0.9411\n",
       "-0.5836 -0.2842 -0.9526\n",
       "-0.5901 -0.2887 -0.9642\n",
       "-0.5966 -0.2932 -0.9757\n",
       "-0.6032 -0.2977 -0.9872\n",
       "-0.6097 -0.3022 -0.9987\n",
       "-0.6162 -0.3067 -1.0102\n",
       "-0.6227 -0.3112 -1.0218\n",
       "-0.6292 -0.3157 -1.0333\n",
       "-0.6357 -0.3202 -1.0448\n",
       "-0.6422 -0.3247 -1.0563\n",
       "-0.6487 -0.3292 -1.0678\n",
       "-0.6552 -0.3338 -1.0794\n",
       "-0.6617 -0.3383 -1.0909\n",
       "-0.6682 -0.3428 -1.1024\n",
       "-0.6747 -0.3473 -1.1139\n",
       "-0.6812 -0.3518 -1.1254\n",
       "-0.6877 -0.3563 -1.1370\n",
       "-0.6942 -0.3608 -1.1485\n",
       "-0.7007 -0.3653 -1.1600\n",
       "-0.7073 -0.3698 -1.1715\n",
       "-0.7138 -0.3743 -1.1830\n",
       "-0.7203 -0.3788 -1.1946\n",
       "-0.7268 -0.3833 -1.2061\n",
       "-0.7333 -0.3878 -1.2176\n",
       "-0.7398 -0.3923 -1.2291\n",
       "-0.7463 -0.3968 -1.2406\n",
       "-0.7528 -0.4014 -1.2522\n",
       "-0.7593 -0.4059 -1.2637\n",
       "-0.7658 -0.4104 -1.2752\n",
       "-0.7723 -0.4149 -1.2867\n",
       "-0.7788 -0.4194 -1.2983\n",
       "-0.7853 -0.4239 -1.3098\n",
       "-0.7918 -0.4284 -1.3213\n",
       "-0.7983 -0.4329 -1.3328\n",
       "-0.8048 -0.4374 -1.3443\n",
       "-0.8114 -0.4419 -1.3559\n",
       "-0.8179 -0.4464 -1.3674\n",
       "-0.8244 -0.4509 -1.3789\n",
       "-0.8309 -0.4554 -1.3904\n",
       "-0.8374 -0.4599 -1.4019\n",
       "-0.8439 -0.4644 -1.4135\n",
       "-0.8504 -0.4690 -1.4250\n",
       "-0.8569 -0.4735 -1.4365\n",
       "-0.8634 -0.4780 -1.4480\n",
       "-0.8699 -0.4825 -1.4595\n",
       "-0.8764 -0.4870 -1.4711\n",
       "-0.8829 -0.4915 -1.4826\n",
       "-0.8894 -0.4960 -1.4941\n",
       "-0.8959 -0.5005 -1.5056\n",
       "-0.9024 -0.5050 -1.5171\n",
       "-0.9089 -0.5095 -1.5287\n",
       "-0.9154 -0.5140 -1.5402\n",
       "-0.9220 -0.5185 -1.5517\n",
       "-0.9285 -0.5230 -1.5632\n",
       "-0.9350 -0.5275 -1.5747\n",
       "-0.9415 -0.5321 -1.5863\n",
       "-0.9480 -0.5366 -1.5978\n",
       "-0.9545 -0.5411 -1.6093\n",
       "[torch.FloatTensor of size 120x3]"
      ]
     },
     "execution_count": 20,
     "metadata": {},
     "output_type": "execute_result"
    }
   ],
   "source": [
    "affine.weight.grad"
   ]
  },
  {
   "cell_type": "code",
   "execution_count": null,
   "metadata": {
    "collapsed": true
   },
   "outputs": [],
   "source": []
  }
 ],
 "metadata": {
  "anaconda-cloud": {},
  "kernelspec": {
   "display_name": "Python [conda root]",
   "language": "python",
   "name": "conda-root-py"
  },
  "language_info": {
   "codemirror_mode": {
    "name": "ipython",
    "version": 2
   },
   "file_extension": ".py",
   "mimetype": "text/x-python",
   "name": "python",
   "nbconvert_exporter": "python",
   "pygments_lexer": "ipython2",
   "version": "2.7.13"
  }
 },
 "nbformat": 4,
 "nbformat_minor": 1
}
